{
 "cells": [
  {
   "cell_type": "code",
   "execution_count": 21,
   "metadata": {},
   "outputs": [],
   "source": [
    "import os \n",
    "import json\n",
    "import pprint\n",
    "import tweepy"
   ]
  },
  {
   "cell_type": "markdown",
   "metadata": {},
   "source": [
    "# Load Twitter API credentials from external file\n",
    "\n",
    "Create a json file named `twitter_credentials.json`\n",
    "\n",
    "```\n",
    "{\n",
    "    \"api_key\": \"...\",\n",
    "    \"api_secret\": \"...\",\n",
    "    \"access_token\": \"...\",\n",
    "    \"access_secret\": \"...\",\n",
    "    \"bearer_token\": \"...\"\n",
    "}\n",
    "```"
   ]
  },
  {
   "cell_type": "code",
   "execution_count": 22,
   "metadata": {},
   "outputs": [],
   "source": [
    "credentials_file = 'twitter_credentials.json'\n",
    "\n",
    "with open(credentials_file) as credentials_data:\n",
    "   api_data = json.load(credentials_data)\n",
    "\n",
    "api_key = api_data['api_key']\n",
    "api_secret = api_data['api_secret']\n",
    "access_token = api_data['access_token']\n",
    "access_secret = api_data['access_secret']\n",
    "bearer_token = api_data['bearer_token']"
   ]
  },
  {
   "cell_type": "code",
   "execution_count": 23,
   "metadata": {},
   "outputs": [],
   "source": [
    "\n",
    "client = tweepy.Client(\n",
    "    consumer_key=api_key, \n",
    "    consumer_secret=api_secret, \n",
    "    access_token=access_token, \n",
    "    access_token_secret=access_secret, \n",
    "    bearer_token=bearer_token,\n",
    "    wait_on_rate_limit=True,\n",
    "    return_type=dict\n",
    ")"
   ]
  },
  {
   "cell_type": "code",
   "execution_count": 31,
   "metadata": {},
   "outputs": [],
   "source": [
    "accounts = [\"mizzaro\", \"Miccighel_\"]\n",
    "\n",
    "data_folder = \"datav2\"\n",
    "tweets_folder = f\"{data_folder}/tweets\"\n",
    "\n",
    "def serialize_json(folder, filename, data):\n",
    "    if not os.path.exists(folder):\n",
    "        os.makedirs(folder, exist_ok=True)\n",
    "    with open(f\"{folder}/{filename}\", 'w', encoding='utf-8') as f:\n",
    "        json.dump(data, f, ensure_ascii=False, indent=4)\n",
    "        f.close()\n",
    "    print(f\"Data serialized to path: {folder}/{filename}\")\n",
    "\n",
    "def read_json(path):\n",
    "    if os.path.exists(path):\n",
    "        with open(path, \"r\", encoding=\"utf8\") as file:\n",
    "            data = json.load(file)\n",
    "        print(f\"Data read from path: {path}\")\n",
    "        return data\n",
    "    else:\n",
    "        print(f\"No data found at path: {path}\")\n",
    "        return {}\n",
    "\n",
    "def get_followers(user, quantity):\n",
    "    \n",
    "    print(f\"Processing user {user}\")\n",
    "    \n",
    "    followers_of_user = []\n",
    "    \n",
    "    for item in tweepy.Cursor(\n",
    "        api.followers, \n",
    "        screen_name=user, \n",
    "        skip_status=True, \n",
    "        include_user_entities=False\n",
    "        ).items():\n",
    "        \n",
    "        json_data = item._json\n",
    "        \n",
    "        found_follower = {}\n",
    "        found_follower[\"id\"] = json_data[\"id\"]\n",
    "        found_follower[\"name\"] = json_data[\"name\"]\n",
    "        found_follower[\"screen_name\"] = json_data[\"screen_name\"]\n",
    "        found_follower[\"location\"] = json_data[\"location\"]\n",
    "        found_follower[\"description\"] = json_data[\"description\"]\n",
    "        found_follower[\"protected\"] = json_data[\"protected\"]\n",
    "        found_follower[\"followers_count\"] = json_data[\"followers_count\"]\n",
    "        found_follower[\"friends_count\"] = json_data[\"friends_count\"]\n",
    "        \n",
    "        if (found_follower not in followers_of_user) and\\\n",
    "            not found_follower[\"protected\"] and\\\n",
    "            (found_follower[\"followers_count\"] < 1000) and\\\n",
    "            (found_follower[\"friends_count\"] < 1000):\n",
    "            followers_of_user.append(found_follower)\n",
    "\n",
    "        if len(followers_of_user) == quantity:\n",
    "            break\n",
    "            \n",
    "    print(f\"Found {len(followers_of_user)} followers for user {user}\")\n",
    "\n",
    "    return followers_of_user\n",
    "\n",
    "\n",
    "def get_friends(user, quantity):\n",
    "    \n",
    "    print(f\"Processing user {user}\")\n",
    "    \n",
    "    friends_of_user = []\n",
    "    \n",
    "    for item in tweepy.Cursor(\n",
    "        api.friends, \n",
    "        screen_name=user, \n",
    "        skip_status=True, \n",
    "        include_user_entities=False\n",
    "        ).items():\n",
    "        \n",
    "        json_data = item._json\n",
    "        \n",
    "        found_friend = {}\n",
    "        found_friend[\"id\"] = json_data[\"id\"]\n",
    "        found_friend[\"name\"] = json_data[\"name\"]\n",
    "        found_friend[\"screen_name\"] = json_data[\"screen_name\"]\n",
    "        found_friend[\"location\"] = json_data[\"location\"]\n",
    "        found_friend[\"description\"] = json_data[\"description\"]\n",
    "        found_friend[\"protected\"] = json_data[\"protected\"]\n",
    "        found_friend[\"friends_count\"] = json_data[\"friends_count\"]\n",
    "        found_friend[\"followers_count\"] = json_data[\"followers_count\"]\n",
    "        \n",
    "        # append only when following/follower < 1000\n",
    "        if (found_friend not in friends_of_user) and\\\n",
    "            not found_friend[\"protected\"] and\\\n",
    "           (found_friend[\"friends_count\"] < 1000) and\\\n",
    "            (found_friend[\"followers_count\"] < 1000):\n",
    "            friends_of_user.append(found_friend)\n",
    "\n",
    "        # exit when friends == quantity\n",
    "        if len(friends_of_user) == quantity:\n",
    "            break\n",
    "            \n",
    "    print(f\"Found {len(friends_of_user)} friends of user {user}\")\n",
    "    \n",
    "    return friends_of_user\n",
    "\n",
    "def get_tweets(user, quantity):\n",
    "\n",
    "    tweets = []\n",
    "    for item in tweepy.Cursor(\n",
    "        api.user_timeline, \n",
    "        screen_name=user,\n",
    "        tweet_mode=\"extended\"\n",
    "    ).items(quantity):\n",
    "        raw_tweet = item._json\n",
    "        tweet = {}\n",
    "        tweet[\"id\"]= raw_tweet[\"id\"]\n",
    "        tweet[\"created_at\"] = raw_tweet[\"created_at\"]\n",
    "        tweet[\"full_text\"] = raw_tweet[\"full_text\"],\n",
    "        tweet[\"favorite_count\"]= raw_tweet[\"favorite_count\"]\n",
    "        tweets.append(tweet)\n",
    "    return tweets\n",
    "\n",
    "def get_followersv2(username, quantity):\n",
    "    followers_of_user = []\n",
    "\n",
    "    data_for_page = 10\n",
    "    data_total = quantity\n",
    "    next_token = None\n",
    "\n",
    "    response = client.get_user(username=username)\n",
    "    user = response['data']\n",
    "    print(f\"Processing user with id {user['id']} and username {user['username']}\")\n",
    "    while (next_token) or (len(followers_of_user) <= 0):\n",
    "        if next_token:\n",
    "            response = client.get_users_followers(\n",
    "                id=user['id'], user_fields=['name', 'description', 'location'], \n",
    "                max_results=data_for_page, pagination_token=next_token\n",
    "                )\n",
    "        else:\n",
    "            response = client.get_users_followers(\n",
    "                id=user['id'], user_fields=['name', 'description', 'location'], \n",
    "                max_results=data_for_page\n",
    "                )\n",
    "        next_token = response['meta']['next_token'] if 'next_token' in response['meta'] else None   \n",
    "        for data in response['data']:\n",
    "            if(len(followers_of_user) < data_total):\n",
    "                followers_of_user.append(data)\n",
    "            \n",
    "    print(f\"Found {len(followers_of_user)} followers for user {username}\")\n",
    "    return followers_of_user"
   ]
  },
  {
   "cell_type": "code",
   "execution_count": 32,
   "metadata": {},
   "outputs": [
    {
     "name": "stdout",
     "output_type": "stream",
     "text": [
      "Processing user mizzaro\n",
      "Processing user with id 18932422 and username mizzaro\n"
     ]
    },
    {
     "name": "stderr",
     "output_type": "stream",
     "text": [
      "Rate limit exceeded. Sleeping for 897 seconds.\n"
     ]
    }
   ],
   "source": [
    "get_followersv2('mizzaro', 15)"
   ]
  },
  {
   "cell_type": "markdown",
   "metadata": {},
   "source": [
    "# First level followers"
   ]
  },
  {
   "cell_type": "code",
   "execution_count": null,
   "metadata": {},
   "outputs": [],
   "source": [
    "\n",
    "first_level_followers = {}\n",
    "for account in accounts:\n",
    "    first_level_followers[account] = get_followers(account, 5)\n",
    "    \n",
    "serialize_json(data_folder, \"first_level_followers.json\", first_level_followers)"
   ]
  },
  {
   "cell_type": "markdown",
   "metadata": {},
   "source": [
    "# First level friends"
   ]
  },
  {
   "cell_type": "code",
   "execution_count": null,
   "metadata": {},
   "outputs": [],
   "source": [
    "\n",
    "first_level_friends = {}\n",
    "for account in accounts:\n",
    "    first_level_friends[account] = get_friends(account, 5)\n",
    "    \n",
    "serialize_json(data_folder, \"first_level_friends.json\", first_level_friends)"
   ]
  },
  {
   "cell_type": "markdown",
   "metadata": {},
   "source": [
    "# Second level followers"
   ]
  },
  {
   "cell_type": "code",
   "execution_count": null,
   "metadata": {},
   "outputs": [
    {
     "name": "stdout",
     "output_type": "stream",
     "text": [
      "Data read from path: data/first_level_followers.json\n",
      "Processing user OlegZendel\n",
      "Found 5 followers for user OlegZendel\n",
      "Processing user LyndaSaidLhadj\n",
      "Found 5 followers for user LyndaSaidLhadj\n",
      "Processing user acai2021\n",
      "Found 5 followers for user acai2021\n",
      "Processing user rodger_benham\n",
      "Found 5 followers for user rodger_benham\n",
      "Processing user ColoursRiot\n",
      "Found 5 followers for user ColoursRiot\n",
      "Processing user Il_Bale_\n",
      "Found 1 followers for user Il_Bale_\n",
      "Processing user Outsider289\n",
      "Found 5 followers for user Outsider289\n",
      "Processing user mizzaro\n",
      "Found 5 followers for user mizzaro\n",
      "Processing user EUROARTISTS\n",
      "Found 5 followers for user EUROARTISTS\n",
      "Processing user fra_bomba6\n",
      "Found 4 followers for user fra_bomba6\n",
      "Data serialized to path: data/second_level_followers.json\n"
     ]
    }
   ],
   "source": [
    "second_level_followers = {}\n",
    "first_level_followers_data = read_json(f\"{data_folder}/first_level_followers.json\")\n",
    "\n",
    "for followers_list in first_level_followers_data.values():\n",
    "    for follower in followers_list:\n",
    "        second_level_followers[follower['screen_name']] = get_followers(follower['screen_name'], 5)\n",
    "    \n",
    "serialize_json(data_folder, \"second_level_followers.json\", second_level_followers)"
   ]
  },
  {
   "cell_type": "markdown",
   "metadata": {},
   "source": [
    "# Second level friends"
   ]
  },
  {
   "cell_type": "code",
   "execution_count": null,
   "metadata": {},
   "outputs": [
    {
     "name": "stdout",
     "output_type": "stream",
     "text": [
      "Data read from path: data/first_level_friends.json\n",
      "Processing user MaxZancanaro\n",
      "Found 5 friends of user MaxZancanaro\n",
      "Processing user CIRES_AU\n",
      "Found 5 friends of user CIRES_AU\n",
      "Processing user mccart_richard\n",
      "Found 5 friends of user mccart_richard\n",
      "Processing user Miccighel_\n",
      "Found 5 friends of user Miccighel_\n",
      "Processing user rmit_cidda\n",
      "Found 5 friends of user rmit_cidda\n",
      "Processing user fra_bomba6\n",
      "Found 5 friends of user fra_bomba6\n",
      "Processing user Outsider289\n",
      "Found 5 friends of user Outsider289\n",
      "Processing user BiancolinoElisa\n",
      "Found 5 friends of user BiancolinoElisa\n",
      "Processing user ZuzanPink\n",
      "Found 5 friends of user ZuzanPink\n",
      "Processing user eglu81\n"
     ]
    },
    {
     "name": "stderr",
     "output_type": "stream",
     "text": [
      "Rate limit reached. Sleeping for: 866\n"
     ]
    },
    {
     "name": "stdout",
     "output_type": "stream",
     "text": [
      "Found 5 friends of user eglu81\n",
      "Data serialized to path: data/second_level_friends.json\n"
     ]
    }
   ],
   "source": [
    "second_level_friends = {}\n",
    "first_level_friends_data = read_json(f\"{data_folder}/first_level_friends.json\")\n",
    "\n",
    "for friends_list in first_level_friends_data.values():\n",
    "    for friends in friends_list:\n",
    "        second_level_friends[friends['screen_name']] = get_friends(friends['screen_name'], 5)\n",
    "    \n",
    "serialize_json(data_folder, \"second_level_friends.json\", second_level_friends)"
   ]
  },
  {
   "cell_type": "markdown",
   "metadata": {},
   "source": [
    "# Last 5 tweets of first and second level followers"
   ]
  },
  {
   "cell_type": "code",
   "execution_count": null,
   "metadata": {},
   "outputs": [
    {
     "name": "stdout",
     "output_type": "stream",
     "text": [
      "Data read from path: data/first_level_followers.json\n",
      "Data read from path: data/second_level_followers.json\n",
      "OlegZendel\n",
      "LyndaSaidLhadj\n",
      "acai2021\n",
      "rodger_benham\n",
      "ColoursRiot\n",
      "Il_Bale_\n",
      "Outsider289\n",
      "mizzaro\n",
      "EUROARTISTS\n",
      "fra_bomba6\n",
      "Marwah_k\n",
      "ivrik\n",
      "Dars2022_Sympo\n",
      "ameertawfik\n",
      "aleksbobic\n",
      "gael_dias\n",
      "Nthakur20\n",
      "AthmaniAmine\n",
      "iiia_unipd\n",
      "OthmaniDr\n",
      "TilburgU_DCA\n",
      "srj_krishna\n",
      "gabriellearuta\n",
      "lesleywilton\n",
      "sencerdeniz\n",
      "NFT_Starr777\n",
      "MaksudaBilkis\n",
      "jparapar\n",
      "ameertawfik\n",
      "Jinxuan16807201\n",
      "ciscaredda0111\n",
      "AmbesiAntonio\n",
      "BrillantVacant\n",
      "LuvYahBoo24\n",
      "Martha_Young\n",
      "mrdanieltaylor1\n",
      "Miccighel_\n",
      "Sogno_Danzante\n",
      "boreale01\n",
      "nico_peresson\n",
      "Giulia13568642\n",
      "OlegZendel\n",
      "LyndaSaidLhadj\n",
      "acai2021\n",
      "rodger_benham\n",
      "ColoursRiot\n",
      "modosmanagement\n",
      "isabelleGILLOO1\n",
      "JoziOpera\n",
      "Tenor_Rguez27\n",
      "MarigonaQerkezi\n",
      "Miccighel_\n",
      "Ilele99\n",
      "cantaht\n",
      "mary04655117\n"
     ]
    }
   ],
   "source": [
    "first_level_followers_data = read_json(f\"{data_folder}/first_level_followers.json\")\n",
    "second_level_followers_data = read_json(f\"{data_folder}/second_level_followers.json\")\n",
    "\n",
    "for followers_list in first_level_followers_data.values():\n",
    "    for follower in followers_list:\n",
    "        print(follower['screen_name'])\n",
    "        if not os.path.exists(f\"{tweets_folder}/{follower['screen_name']}.json\"):\n",
    "            tweets = get_tweets(follower['screen_name'], 5)\n",
    "            serialize_json(tweets_folder, f\"{follower['screen_name']}.json\", tweets)\n",
    "\n",
    "\n",
    "for followers_list in second_level_followers_data.values():\n",
    "    for follower in followers_list:\n",
    "        print(follower['screen_name'])\n",
    "        if not os.path.exists(f\"{tweets_folder}/{follower['screen_name']}.json\"):\n",
    "            tweets = get_tweets(follower['screen_name'], 5)\n",
    "            serialize_json(tweets_folder, f\"{follower['screen_name']}.json\", tweets)"
   ]
  }
 ],
 "metadata": {
  "interpreter": {
   "hash": "2747d8a742b14b144b64971f78c191494e845008ffd18aa8d068bcaaed25aa70"
  },
  "kernelspec": {
   "display_name": "Python 3.9.4 64-bit ('py3k': conda)",
   "name": "python3"
  },
  "language_info": {
   "codemirror_mode": {
    "name": "ipython",
    "version": 3
   },
   "file_extension": ".py",
   "mimetype": "text/x-python",
   "name": "python",
   "nbconvert_exporter": "python",
   "pygments_lexer": "ipython3",
   "version": "3.9.4"
  },
  "orig_nbformat": 4
 },
 "nbformat": 4,
 "nbformat_minor": 2
}
